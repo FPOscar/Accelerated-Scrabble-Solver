{
 "cells": [
  {
   "cell_type": "code",
   "execution_count": 1,
   "metadata": {},
   "outputs": [
    {
     "name": "stdout",
     "output_type": "stream",
     "text": [
      "\n",
      "Best word(s) with score 36:\n",
      "ZANTHOXYLUMS\n"
     ]
    }
   ],
   "source": [
    "import collections\n",
    "import sys\n",
    "\n",
    "import fast_functions  # Import the compiled Cython module\n",
    "\n",
    "# Scrabble letter scores\n",
    "SCRABBLE_SCORES = {\n",
    "    'A': 1, 'B': 3, 'C': 3, 'D': 2, 'E': 1,\n",
    "    'F': 4, 'G': 2, 'H': 4, 'I': 1, 'J': 8,\n",
    "    'K': 5, 'L': 1, 'M': 3, 'N': 1, 'O': 1,\n",
    "    'P': 3, 'Q': 10, 'R': 1, 'S': 1, 'T': 1,\n",
    "    'U': 1, 'V': 4, 'W': 4, 'X': 8, 'Y': 4,\n",
    "    'Z': 10\n",
    "}\n",
    "\n",
    "def load_word_list(filename):\n",
    "    \"\"\"Load the word list from a file into a set.\"\"\"\n",
    "    with open(filename, 'r') as file:\n",
    "        words = file.read().splitlines()\n",
    "    return set(word.upper() for word in words)\n",
    "\n",
    "def find_best_words(user_letters, word_list):\n",
    "    \"\"\"Find the highest-scoring word(s) from the word list.\"\"\"\n",
    "    user_letters = user_letters.upper()\n",
    "    letters_counter = collections.Counter(user_letters)\n",
    "    best_words = []\n",
    "    max_score = 0\n",
    "\n",
    "    for word in word_list:\n",
    "        if len(word) > len(user_letters):\n",
    "            continue\n",
    "        word_counter = collections.Counter(word)\n",
    "        if fast_functions.is_word_formable(word_counter, letters_counter):\n",
    "            score = fast_functions.get_word_score(word, SCRABBLE_SCORES)\n",
    "            if score > max_score:\n",
    "                max_score = score\n",
    "                best_words = [word]\n",
    "            elif score == max_score:\n",
    "                best_words.append(word)\n",
    "\n",
    "    return best_words, max_score\n",
    "\n",
    "def main():\n",
    "    # Load the word list\n",
    "    word_list = load_word_list('sowpods.txt')\n",
    "\n",
    "    # Get user's letters\n",
    "    user_letters = (\"qwertyuiopasdfghjklzxcvbnm\")\n",
    "\n",
    "    # Find the best words\n",
    "    best_words, max_score = find_best_words(user_letters, word_list)\n",
    "\n",
    "    # Output the results\n",
    "    if best_words:\n",
    "        print(f\"\\nBest word(s) with score {max_score}:\")\n",
    "        for word in best_words:\n",
    "            print(word)\n",
    "    else:\n",
    "        print(\"No valid words can be formed from the given letters.\")\n",
    "\n",
    "if __name__ == \"__main__\":\n",
    "    main()\n"
   ]
  }
 ],
 "metadata": {
  "kernelspec": {
   "display_name": "Python 3",
   "language": "python",
   "name": "python3"
  },
  "language_info": {
   "codemirror_mode": {
    "name": "ipython",
    "version": 3
   },
   "file_extension": ".py",
   "mimetype": "text/x-python",
   "name": "python",
   "nbconvert_exporter": "python",
   "pygments_lexer": "ipython3",
   "version": "3.12.5"
  }
 },
 "nbformat": 4,
 "nbformat_minor": 2
}
